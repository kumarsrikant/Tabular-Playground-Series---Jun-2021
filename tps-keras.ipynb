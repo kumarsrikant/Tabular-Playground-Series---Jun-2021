{
 "cells": [
  {
   "cell_type": "code",
   "execution_count": 1,
   "id": "upper-method",
   "metadata": {
    "_cell_guid": "b1076dfc-b9ad-4769-8c92-a6c4dae69d19",
    "_uuid": "8f2839f25d086af736a60e9eeb907d3b93b6e0e5",
    "execution": {
     "iopub.execute_input": "2021-06-21T05:45:17.770553Z",
     "iopub.status.busy": "2021-06-21T05:45:17.769936Z",
     "iopub.status.idle": "2021-06-21T05:45:17.775376Z",
     "shell.execute_reply": "2021-06-21T05:45:17.775975Z",
     "shell.execute_reply.started": "2021-06-21T05:28:40.414399Z"
    },
    "papermill": {
     "duration": 0.042614,
     "end_time": "2021-06-21T05:45:17.776235",
     "exception": false,
     "start_time": "2021-06-21T05:45:17.733621",
     "status": "completed"
    },
    "tags": []
   },
   "outputs": [
    {
     "name": "stdout",
     "output_type": "stream",
     "text": [
      "/kaggle/input/tabular-playground-series-jun-2021/sample_submission.csv\n",
      "/kaggle/input/tabular-playground-series-jun-2021/train.csv\n",
      "/kaggle/input/tabular-playground-series-jun-2021/test.csv\n"
     ]
    }
   ],
   "source": [
    "# This Python 3 environment comes with many helpful analytics libraries installed\n",
    "# It is defined by the kaggle/python Docker image: https://github.com/kaggle/docker-python\n",
    "# For example, here's several helpful packages to load\n",
    "\n",
    "import numpy as np # linear algebra\n",
    "import pandas as pd # data processing, CSV file I/O (e.g. pd.read_csv)\n",
    "\n",
    "# Input data files are available in the read-only \"../input/\" directory\n",
    "# For example, running this (by clicking run or pressing Shift+Enter) will list all files under the input directory\n",
    "\n",
    "import os\n",
    "for dirname, _, filenames in os.walk('/kaggle/input'):\n",
    "    for filename in filenames:\n",
    "        print(os.path.join(dirname, filename))\n",
    "\n",
    "# You can write up to 20GB to the current directory (/kaggle/working/) that gets preserved as output when you create a version using \"Save & Run All\" \n",
    "# You can also write temporary files to /kaggle/temp/, but they won't be saved outside of the current session"
   ]
  },
  {
   "cell_type": "code",
   "execution_count": 2,
   "id": "confidential-negotiation",
   "metadata": {
    "execution": {
     "iopub.execute_input": "2021-06-21T05:45:17.834662Z",
     "iopub.status.busy": "2021-06-21T05:45:17.834120Z",
     "iopub.status.idle": "2021-06-21T05:45:23.465720Z",
     "shell.execute_reply": "2021-06-21T05:45:23.464740Z",
     "shell.execute_reply.started": "2021-06-21T05:28:41.106582Z"
    },
    "papermill": {
     "duration": 5.663233,
     "end_time": "2021-06-21T05:45:23.465879",
     "exception": false,
     "start_time": "2021-06-21T05:45:17.802646",
     "status": "completed"
    },
    "tags": []
   },
   "outputs": [],
   "source": [
    "import pandas as pd\n",
    "import numpy as np\n",
    "\n",
    "from sklearn.model_selection import StratifiedKFold\n",
    "from sklearn import preprocessing\n",
    "from sklearn.metrics import log_loss\n",
    "\n",
    "import gc\n",
    "import seaborn as sns\n",
    "import matplotlib.pyplot as plt\n",
    "import tensorflow as tf\n",
    "import tensorflow_addons as tfa\n",
    "import tensorflow.keras.backend as K\n",
    "from tensorflow import keras\n",
    "from tensorflow.keras import layers\n",
    "from tensorflow.keras import activations,callbacks\n",
    "from tensorflow.keras.optimizers import Adam\n",
    "from tensorflow.keras.metrics import categorical_crossentropy\n",
    "from tensorflow.keras.utils import to_categorical\n",
    "from tensorflow.keras import initializers\n",
    "\n",
    "from keras.models import Model\n",
    "from sklearn.model_selection import train_test_split\n",
    "from sklearn import metrics\n",
    "from sklearn.pipeline import Pipeline\n",
    "from sklearn.model_selection import cross_val_score\n",
    "from sklearn.model_selection import StratifiedKFold\n",
    "from sklearn.preprocessing import StandardScaler\n",
    "\n",
    "\n",
    "from tensorflow import keras\n",
    "from tensorflow.keras import layers\n",
    "from tensorflow.keras.utils import to_categorical\n",
    "from tensorflow.keras import callbacks\n",
    "import tensorflow as tf"
   ]
  },
  {
   "cell_type": "code",
   "execution_count": 3,
   "id": "honey-disease",
   "metadata": {
    "execution": {
     "iopub.execute_input": "2021-06-21T05:45:23.524035Z",
     "iopub.status.busy": "2021-06-21T05:45:23.523468Z",
     "iopub.status.idle": "2021-06-21T05:45:25.241566Z",
     "shell.execute_reply": "2021-06-21T05:45:25.242012Z",
     "shell.execute_reply.started": "2021-06-21T05:28:47.007591Z"
    },
    "papermill": {
     "duration": 1.750359,
     "end_time": "2021-06-21T05:45:25.242174",
     "exception": false,
     "start_time": "2021-06-21T05:45:23.491815",
     "status": "completed"
    },
    "tags": []
   },
   "outputs": [],
   "source": [
    "train = pd.read_csv('../input/tabular-playground-series-jun-2021/train.csv')\n",
    "test = pd.read_csv(\"../input/tabular-playground-series-jun-2021/test.csv\")\n",
    "submission = pd.read_csv(\"../input/tabular-playground-series-jun-2021/sample_submission.csv\")\n",
    "submission = submission.set_index('id')"
   ]
  },
  {
   "cell_type": "code",
   "execution_count": 4,
   "id": "silver-birth",
   "metadata": {
    "execution": {
     "iopub.execute_input": "2021-06-21T05:45:25.297852Z",
     "iopub.status.busy": "2021-06-21T05:45:25.297197Z",
     "iopub.status.idle": "2021-06-21T05:45:25.300929Z",
     "shell.execute_reply": "2021-06-21T05:45:25.300452Z",
     "shell.execute_reply.started": "2021-06-21T05:28:48.693120Z"
    },
    "papermill": {
     "duration": 0.032689,
     "end_time": "2021-06-21T05:45:25.301034",
     "exception": false,
     "start_time": "2021-06-21T05:45:25.268345",
     "status": "completed"
    },
    "tags": []
   },
   "outputs": [],
   "source": [
    "x_cols = train.columns[0:-1].tolist()\n",
    "y_col = train.columns[-1]"
   ]
  },
  {
   "cell_type": "code",
   "execution_count": 5,
   "id": "bound-concrete",
   "metadata": {
    "execution": {
     "iopub.execute_input": "2021-06-21T05:45:25.359169Z",
     "iopub.status.busy": "2021-06-21T05:45:25.358403Z",
     "iopub.status.idle": "2021-06-21T05:45:25.363019Z",
     "shell.execute_reply": "2021-06-21T05:45:25.362621Z",
     "shell.execute_reply.started": "2021-06-21T05:28:48.700775Z"
    },
    "papermill": {
     "duration": 0.036881,
     "end_time": "2021-06-21T05:45:25.363128",
     "exception": false,
     "start_time": "2021-06-21T05:45:25.326247",
     "status": "completed"
    },
    "tags": []
   },
   "outputs": [
    {
     "data": {
      "text/plain": [
       "['id',\n",
       " 'feature_0',\n",
       " 'feature_1',\n",
       " 'feature_2',\n",
       " 'feature_3',\n",
       " 'feature_4',\n",
       " 'feature_5',\n",
       " 'feature_6',\n",
       " 'feature_7',\n",
       " 'feature_8',\n",
       " 'feature_9',\n",
       " 'feature_10',\n",
       " 'feature_11',\n",
       " 'feature_12',\n",
       " 'feature_13',\n",
       " 'feature_14',\n",
       " 'feature_15',\n",
       " 'feature_16',\n",
       " 'feature_17',\n",
       " 'feature_18',\n",
       " 'feature_19',\n",
       " 'feature_20',\n",
       " 'feature_21',\n",
       " 'feature_22',\n",
       " 'feature_23',\n",
       " 'feature_24',\n",
       " 'feature_25',\n",
       " 'feature_26',\n",
       " 'feature_27',\n",
       " 'feature_28',\n",
       " 'feature_29',\n",
       " 'feature_30',\n",
       " 'feature_31',\n",
       " 'feature_32',\n",
       " 'feature_33',\n",
       " 'feature_34',\n",
       " 'feature_35',\n",
       " 'feature_36',\n",
       " 'feature_37',\n",
       " 'feature_38',\n",
       " 'feature_39',\n",
       " 'feature_40',\n",
       " 'feature_41',\n",
       " 'feature_42',\n",
       " 'feature_43',\n",
       " 'feature_44',\n",
       " 'feature_45',\n",
       " 'feature_46',\n",
       " 'feature_47',\n",
       " 'feature_48',\n",
       " 'feature_49',\n",
       " 'feature_50',\n",
       " 'feature_51',\n",
       " 'feature_52',\n",
       " 'feature_53',\n",
       " 'feature_54',\n",
       " 'feature_55',\n",
       " 'feature_56',\n",
       " 'feature_57',\n",
       " 'feature_58',\n",
       " 'feature_59',\n",
       " 'feature_60',\n",
       " 'feature_61',\n",
       " 'feature_62',\n",
       " 'feature_63',\n",
       " 'feature_64',\n",
       " 'feature_65',\n",
       " 'feature_66',\n",
       " 'feature_67',\n",
       " 'feature_68',\n",
       " 'feature_69',\n",
       " 'feature_70',\n",
       " 'feature_71',\n",
       " 'feature_72',\n",
       " 'feature_73',\n",
       " 'feature_74']"
      ]
     },
     "execution_count": 5,
     "metadata": {},
     "output_type": "execute_result"
    }
   ],
   "source": [
    "x_cols"
   ]
  },
  {
   "cell_type": "code",
   "execution_count": 6,
   "id": "editorial-remedy",
   "metadata": {
    "execution": {
     "iopub.execute_input": "2021-06-21T05:45:25.419040Z",
     "iopub.status.busy": "2021-06-21T05:45:25.418494Z",
     "iopub.status.idle": "2021-06-21T05:45:25.423773Z",
     "shell.execute_reply": "2021-06-21T05:45:25.423362Z",
     "shell.execute_reply.started": "2021-06-21T05:28:48.715400Z"
    },
    "papermill": {
     "duration": 0.034322,
     "end_time": "2021-06-21T05:45:25.423884",
     "exception": false,
     "start_time": "2021-06-21T05:45:25.389562",
     "status": "completed"
    },
    "tags": []
   },
   "outputs": [
    {
     "data": {
      "text/plain": [
       "'target'"
      ]
     },
     "execution_count": 6,
     "metadata": {},
     "output_type": "execute_result"
    }
   ],
   "source": [
    "y_col"
   ]
  },
  {
   "cell_type": "code",
   "execution_count": 7,
   "id": "infinite-scale",
   "metadata": {
    "execution": {
     "iopub.execute_input": "2021-06-21T05:45:25.481109Z",
     "iopub.status.busy": "2021-06-21T05:45:25.480524Z",
     "iopub.status.idle": "2021-06-21T05:45:25.486324Z",
     "shell.execute_reply": "2021-06-21T05:45:25.485785Z",
     "shell.execute_reply.started": "2021-06-21T05:28:48.728380Z"
    },
    "papermill": {
     "duration": 0.036313,
     "end_time": "2021-06-21T05:45:25.486464",
     "exception": false,
     "start_time": "2021-06-21T05:45:25.450151",
     "status": "completed"
    },
    "tags": []
   },
   "outputs": [
    {
     "data": {
      "text/plain": [
       "['id',\n",
       " 'feature_0',\n",
       " 'feature_1',\n",
       " 'feature_2',\n",
       " 'feature_3',\n",
       " 'feature_4',\n",
       " 'feature_5',\n",
       " 'feature_6',\n",
       " 'feature_7',\n",
       " 'feature_8',\n",
       " 'feature_9',\n",
       " 'feature_10',\n",
       " 'feature_11',\n",
       " 'feature_12',\n",
       " 'feature_13',\n",
       " 'feature_14',\n",
       " 'feature_15',\n",
       " 'feature_16',\n",
       " 'feature_17',\n",
       " 'feature_18',\n",
       " 'feature_19',\n",
       " 'feature_20',\n",
       " 'feature_21',\n",
       " 'feature_22',\n",
       " 'feature_23',\n",
       " 'feature_24',\n",
       " 'feature_25',\n",
       " 'feature_26',\n",
       " 'feature_27',\n",
       " 'feature_28',\n",
       " 'feature_29',\n",
       " 'feature_30',\n",
       " 'feature_31',\n",
       " 'feature_32',\n",
       " 'feature_33',\n",
       " 'feature_34',\n",
       " 'feature_35',\n",
       " 'feature_36',\n",
       " 'feature_37',\n",
       " 'feature_38',\n",
       " 'feature_39',\n",
       " 'feature_40',\n",
       " 'feature_41',\n",
       " 'feature_42',\n",
       " 'feature_43',\n",
       " 'feature_44',\n",
       " 'feature_45',\n",
       " 'feature_46',\n",
       " 'feature_47',\n",
       " 'feature_48',\n",
       " 'feature_49',\n",
       " 'feature_50',\n",
       " 'feature_51',\n",
       " 'feature_52',\n",
       " 'feature_53',\n",
       " 'feature_54',\n",
       " 'feature_55',\n",
       " 'feature_56',\n",
       " 'feature_57',\n",
       " 'feature_58',\n",
       " 'feature_59',\n",
       " 'feature_60',\n",
       " 'feature_61',\n",
       " 'feature_62',\n",
       " 'feature_63',\n",
       " 'feature_64',\n",
       " 'feature_65',\n",
       " 'feature_66',\n",
       " 'feature_67',\n",
       " 'feature_68',\n",
       " 'feature_69',\n",
       " 'feature_70',\n",
       " 'feature_71',\n",
       " 'feature_72',\n",
       " 'feature_73',\n",
       " 'feature_74']"
      ]
     },
     "execution_count": 7,
     "metadata": {},
     "output_type": "execute_result"
    }
   ],
   "source": [
    "x_cols"
   ]
  },
  {
   "cell_type": "code",
   "execution_count": 8,
   "id": "assigned-science",
   "metadata": {
    "execution": {
     "iopub.execute_input": "2021-06-21T05:45:25.544156Z",
     "iopub.status.busy": "2021-06-21T05:45:25.543650Z",
     "iopub.status.idle": "2021-06-21T05:45:25.549568Z",
     "shell.execute_reply": "2021-06-21T05:45:25.549090Z",
     "shell.execute_reply.started": "2021-06-21T05:28:48.740011Z"
    },
    "papermill": {
     "duration": 0.036739,
     "end_time": "2021-06-21T05:45:25.549673",
     "exception": false,
     "start_time": "2021-06-21T05:45:25.512934",
     "status": "completed"
    },
    "tags": []
   },
   "outputs": [
    {
     "data": {
      "text/plain": [
       "['feature_0',\n",
       " 'feature_1',\n",
       " 'feature_2',\n",
       " 'feature_3',\n",
       " 'feature_4',\n",
       " 'feature_5',\n",
       " 'feature_6',\n",
       " 'feature_7',\n",
       " 'feature_8',\n",
       " 'feature_9',\n",
       " 'feature_10',\n",
       " 'feature_11',\n",
       " 'feature_12',\n",
       " 'feature_13',\n",
       " 'feature_14',\n",
       " 'feature_15',\n",
       " 'feature_16',\n",
       " 'feature_17',\n",
       " 'feature_18',\n",
       " 'feature_19',\n",
       " 'feature_20',\n",
       " 'feature_21',\n",
       " 'feature_22',\n",
       " 'feature_23',\n",
       " 'feature_24',\n",
       " 'feature_25',\n",
       " 'feature_26',\n",
       " 'feature_27',\n",
       " 'feature_28',\n",
       " 'feature_29',\n",
       " 'feature_30',\n",
       " 'feature_31',\n",
       " 'feature_32',\n",
       " 'feature_33',\n",
       " 'feature_34',\n",
       " 'feature_35',\n",
       " 'feature_36',\n",
       " 'feature_37',\n",
       " 'feature_38',\n",
       " 'feature_39',\n",
       " 'feature_40',\n",
       " 'feature_41',\n",
       " 'feature_42',\n",
       " 'feature_43',\n",
       " 'feature_44',\n",
       " 'feature_45',\n",
       " 'feature_46',\n",
       " 'feature_47',\n",
       " 'feature_48',\n",
       " 'feature_49',\n",
       " 'feature_50',\n",
       " 'feature_51',\n",
       " 'feature_52',\n",
       " 'feature_53',\n",
       " 'feature_54',\n",
       " 'feature_55',\n",
       " 'feature_56',\n",
       " 'feature_57',\n",
       " 'feature_58',\n",
       " 'feature_59',\n",
       " 'feature_60',\n",
       " 'feature_61',\n",
       " 'feature_62',\n",
       " 'feature_63',\n",
       " 'feature_64',\n",
       " 'feature_65',\n",
       " 'feature_66',\n",
       " 'feature_67',\n",
       " 'feature_68',\n",
       " 'feature_69',\n",
       " 'feature_70',\n",
       " 'feature_71',\n",
       " 'feature_72',\n",
       " 'feature_73',\n",
       " 'feature_74']"
      ]
     },
     "execution_count": 8,
     "metadata": {},
     "output_type": "execute_result"
    }
   ],
   "source": [
    "x_cols=x_cols[1:]\n",
    "x_cols"
   ]
  },
  {
   "cell_type": "code",
   "execution_count": 9,
   "id": "metric-lesson",
   "metadata": {
    "execution": {
     "iopub.execute_input": "2021-06-21T05:45:25.645946Z",
     "iopub.status.busy": "2021-06-21T05:45:25.645168Z",
     "iopub.status.idle": "2021-06-21T05:45:25.649163Z",
     "shell.execute_reply": "2021-06-21T05:45:25.648747Z",
     "shell.execute_reply.started": "2021-06-21T05:28:48.754656Z"
    },
    "papermill": {
     "duration": 0.072803,
     "end_time": "2021-06-21T05:45:25.649290",
     "exception": false,
     "start_time": "2021-06-21T05:45:25.576487",
     "status": "completed"
    },
    "tags": []
   },
   "outputs": [],
   "source": [
    "X=train[x_cols]\n",
    "y=train[y_col]"
   ]
  },
  {
   "cell_type": "code",
   "execution_count": 10,
   "id": "frank-principal",
   "metadata": {
    "execution": {
     "iopub.execute_input": "2021-06-21T05:45:25.725770Z",
     "iopub.status.busy": "2021-06-21T05:45:25.724789Z",
     "iopub.status.idle": "2021-06-21T05:45:25.732069Z",
     "shell.execute_reply": "2021-06-21T05:45:25.731647Z",
     "shell.execute_reply.started": "2021-06-21T05:28:48.802276Z"
    },
    "papermill": {
     "duration": 0.05526,
     "end_time": "2021-06-21T05:45:25.732176",
     "exception": false,
     "start_time": "2021-06-21T05:45:25.676916",
     "status": "completed"
    },
    "tags": []
   },
   "outputs": [
    {
     "data": {
      "text/plain": [
       "0         5\n",
       "1         5\n",
       "2         1\n",
       "3         7\n",
       "4         1\n",
       "         ..\n",
       "199995    5\n",
       "199996    5\n",
       "199997    7\n",
       "199998    6\n",
       "199999    7\n",
       "Name: target, Length: 200000, dtype: int64"
      ]
     },
     "execution_count": 10,
     "metadata": {},
     "output_type": "execute_result"
    }
   ],
   "source": [
    "class_map = {'Class_1': 0,\n",
    "            'Class_2': 1,\n",
    "            'Class_3': 2,\n",
    "            'Class_4': 3,\n",
    "            'Class_5': 4,\n",
    "            'Class_6': 5,\n",
    "            'Class_7': 6,\n",
    "            'Class_8': 7,\n",
    "            'Class_9': 8}\n",
    "y = y.map(class_map).astype('int')\n",
    "y"
   ]
  },
  {
   "cell_type": "code",
   "execution_count": 11,
   "id": "golden-gazette",
   "metadata": {
    "execution": {
     "iopub.execute_input": "2021-06-21T05:45:25.789642Z",
     "iopub.status.busy": "2021-06-21T05:45:25.789119Z",
     "iopub.status.idle": "2021-06-21T05:45:25.798494Z",
     "shell.execute_reply": "2021-06-21T05:45:25.798055Z",
     "shell.execute_reply.started": "2021-06-21T05:28:48.835784Z"
    },
    "papermill": {
     "duration": 0.039476,
     "end_time": "2021-06-21T05:45:25.798659",
     "exception": false,
     "start_time": "2021-06-21T05:45:25.759183",
     "status": "completed"
    },
    "tags": []
   },
   "outputs": [
    {
     "data": {
      "text/plain": [
       "array([[0., 0., 0., ..., 0., 0., 0.],\n",
       "       [0., 0., 0., ..., 0., 0., 0.],\n",
       "       [0., 1., 0., ..., 0., 0., 0.],\n",
       "       ...,\n",
       "       [0., 0., 0., ..., 0., 1., 0.],\n",
       "       [0., 0., 0., ..., 1., 0., 0.],\n",
       "       [0., 0., 0., ..., 0., 1., 0.]], dtype=float32)"
      ]
     },
     "execution_count": 11,
     "metadata": {},
     "output_type": "execute_result"
    }
   ],
   "source": [
    "#Converting target series to matrix for multiclass classification on Keras\n",
    "\n",
    "targets = to_categorical(y)\n",
    "targets"
   ]
  },
  {
   "cell_type": "code",
   "execution_count": 12,
   "id": "civil-facility",
   "metadata": {
    "execution": {
     "iopub.execute_input": "2021-06-21T05:45:25.856807Z",
     "iopub.status.busy": "2021-06-21T05:45:25.856273Z",
     "iopub.status.idle": "2021-06-21T05:45:25.860180Z",
     "shell.execute_reply": "2021-06-21T05:45:25.859732Z",
     "shell.execute_reply.started": "2021-06-21T05:28:48.849054Z"
    },
    "papermill": {
     "duration": 0.033959,
     "end_time": "2021-06-21T05:45:25.860290",
     "exception": false,
     "start_time": "2021-06-21T05:45:25.826331",
     "status": "completed"
    },
    "tags": []
   },
   "outputs": [],
   "source": [
    "from sklearn.model_selection import train_test_split"
   ]
  },
  {
   "cell_type": "code",
   "execution_count": 13,
   "id": "induced-commodity",
   "metadata": {
    "execution": {
     "iopub.execute_input": "2021-06-21T05:45:25.919328Z",
     "iopub.status.busy": "2021-06-21T05:45:25.918624Z",
     "iopub.status.idle": "2021-06-21T05:45:26.054783Z",
     "shell.execute_reply": "2021-06-21T05:45:26.054262Z",
     "shell.execute_reply.started": "2021-06-21T05:28:48.855311Z"
    },
    "papermill": {
     "duration": 0.167451,
     "end_time": "2021-06-21T05:45:26.054910",
     "exception": false,
     "start_time": "2021-06-21T05:45:25.887459",
     "status": "completed"
    },
    "tags": []
   },
   "outputs": [],
   "source": [
    "#Splitting of dataset into Training set and testing set (80% and 20% respectively)\n",
    "X_train, X_test, Y_train, Y_test = train_test_split(X, targets, test_size=0.2, random_state=42)"
   ]
  },
  {
   "cell_type": "code",
   "execution_count": 14,
   "id": "satisfied-action",
   "metadata": {
    "execution": {
     "iopub.execute_input": "2021-06-21T05:45:26.119865Z",
     "iopub.status.busy": "2021-06-21T05:45:26.119251Z",
     "iopub.status.idle": "2021-06-21T05:45:28.739497Z",
     "shell.execute_reply": "2021-06-21T05:45:28.738988Z",
     "shell.execute_reply.started": "2021-06-21T05:36:11.636261Z"
    },
    "papermill": {
     "duration": 2.656711,
     "end_time": "2021-06-21T05:45:28.739687",
     "exception": false,
     "start_time": "2021-06-21T05:45:26.082976",
     "status": "completed"
    },
    "tags": []
   },
   "outputs": [],
   "source": [
    "conv_inputs = layers.Input(shape = (75))\n",
    "#----------- Embedding layers ----------------------\n",
    "embed = layers.Embedding (input_dim = 1024, \n",
    "                          output_dim = 7,\n",
    "                          embeddings_regularizer='l2')(conv_inputs)\n",
    "#----------- Convolution layers ----------------------\n",
    "embed = layers.Conv1D(128,1,activation = 'relu')(embed)        \n",
    "embed = layers.Flatten()(embed)\n",
    "hidden = layers.Dropout(0.5)(embed)\n",
    "\n",
    "#----------- Residual blocks layers ----------------------\n",
    "hidden = tfa.layers.WeightNormalization(\n",
    "            layers.Dense(\n",
    "            units=64,\n",
    "            activation ='selu',\n",
    "            kernel_initializer = \"lecun_normal\"))(hidden)\n",
    "\n",
    "output = layers.Dropout(0.3)(layers.Concatenate()([embed, hidden]))\n",
    "output = tfa.layers.WeightNormalization(\n",
    "layers.Dense(\n",
    "            units = 32,\n",
    "            activation='relu',\n",
    "            kernel_initializer = \"lecun_normal\"))(output) \n",
    "output = layers.Dropout(0.4)(layers.Concatenate()([embed, hidden, output]))\n",
    "output = tfa.layers.WeightNormalization(\n",
    "layers.Dense(\n",
    "            units = 16, \n",
    "            activation = 'elu',\n",
    "            kernel_initializer = \"lecun_normal\"))(output)\n",
    "\n",
    "#----------- Final layer -----------------------\n",
    "conv_outputs = layers.Dense(\n",
    "            units = 9, \n",
    "            activation ='softmax',\n",
    "            kernel_initializer =\"lecun_normal\")(output)\n",
    "\n",
    "#----------- Model instantiation  ---------------\n",
    "model = Model(conv_inputs,conv_outputs)"
   ]
  },
  {
   "cell_type": "code",
   "execution_count": 15,
   "id": "hindu-programming",
   "metadata": {
    "execution": {
     "iopub.execute_input": "2021-06-21T05:45:28.801516Z",
     "iopub.status.busy": "2021-06-21T05:45:28.800871Z",
     "iopub.status.idle": "2021-06-21T05:45:28.804181Z",
     "shell.execute_reply": "2021-06-21T05:45:28.803660Z",
     "shell.execute_reply.started": "2021-06-21T05:36:12.198602Z"
    },
    "papermill": {
     "duration": 0.036905,
     "end_time": "2021-06-21T05:45:28.804302",
     "exception": false,
     "start_time": "2021-06-21T05:45:28.767397",
     "status": "completed"
    },
    "tags": []
   },
   "outputs": [],
   "source": [
    "K.clear_session()\n",
    "cce = keras.losses.CategoricalCrossentropy(name = 'cat_crossentr')\n",
    "\n",
    "def custom_metric(y_true, y_pred):\n",
    "    y_pred = K.clip(y_pred, 1e-15, 1-1e-15)\n",
    "    loss = cce(y_true, y_pred)\n",
    "    return loss"
   ]
  },
  {
   "cell_type": "code",
   "execution_count": 16,
   "id": "complete-strategy",
   "metadata": {
    "execution": {
     "iopub.execute_input": "2021-06-21T05:45:28.862631Z",
     "iopub.status.busy": "2021-06-21T05:45:28.862054Z",
     "iopub.status.idle": "2021-06-21T05:45:28.864927Z",
     "shell.execute_reply": "2021-06-21T05:45:28.864410Z",
     "shell.execute_reply.started": "2021-06-21T05:36:12.904779Z"
    },
    "papermill": {
     "duration": 0.033448,
     "end_time": "2021-06-21T05:45:28.865027",
     "exception": false,
     "start_time": "2021-06-21T05:45:28.831579",
     "status": "completed"
    },
    "tags": []
   },
   "outputs": [],
   "source": [
    "OOF_PRED = np.zeros((X_train.shape[0], 9))\n",
    "TEST_PRED = np.zeros((X_test.shape[0], 9))"
   ]
  },
  {
   "cell_type": "code",
   "execution_count": 17,
   "id": "medium-basic",
   "metadata": {
    "execution": {
     "iopub.execute_input": "2021-06-21T05:45:28.925431Z",
     "iopub.status.busy": "2021-06-21T05:45:28.924703Z",
     "iopub.status.idle": "2021-06-21T05:45:28.936818Z",
     "shell.execute_reply": "2021-06-21T05:45:28.936400Z",
     "shell.execute_reply.started": "2021-06-21T05:36:13.473297Z"
    },
    "papermill": {
     "duration": 0.044781,
     "end_time": "2021-06-21T05:45:28.936926",
     "exception": false,
     "start_time": "2021-06-21T05:45:28.892145",
     "status": "completed"
    },
    "tags": []
   },
   "outputs": [],
   "source": [
    "model.compile(loss='categorical_crossentropy', optimizer = keras.optimizers.Adam(learning_rate=2e-4), metrics=custom_metric)"
   ]
  },
  {
   "cell_type": "code",
   "execution_count": 18,
   "id": "historic-irrigation",
   "metadata": {
    "execution": {
     "iopub.execute_input": "2021-06-21T05:45:28.996685Z",
     "iopub.status.busy": "2021-06-21T05:45:28.995920Z",
     "iopub.status.idle": "2021-06-21T05:45:28.998551Z",
     "shell.execute_reply": "2021-06-21T05:45:28.998099Z",
     "shell.execute_reply.started": "2021-06-21T05:36:14.264716Z"
    },
    "papermill": {
     "duration": 0.034339,
     "end_time": "2021-06-21T05:45:28.998657",
     "exception": false,
     "start_time": "2021-06-21T05:45:28.964318",
     "status": "completed"
    },
    "tags": []
   },
   "outputs": [],
   "source": [
    "early_stopping = callbacks.EarlyStopping(monitor='val_loss',\n",
    "    min_delta=0,\n",
    "    patience=5,\n",
    "    verbose=1,\n",
    "    mode='auto',\n",
    "    baseline=None,\n",
    "    restore_best_weights=True)\n",
    "plateau = callbacks.ReduceLROnPlateau(monitor='val_loss',\n",
    "    factor=0.5,\n",
    "    patience=2,\n",
    "    verbose=0,\n",
    "    mode='auto',\n",
    "    min_delta=0.0001,\n",
    "    cooldown=0,\n",
    "    min_lr=0) "
   ]
  },
  {
   "cell_type": "code",
   "execution_count": 19,
   "id": "experienced-method",
   "metadata": {
    "execution": {
     "iopub.execute_input": "2021-06-21T05:45:29.057631Z",
     "iopub.status.busy": "2021-06-21T05:45:29.056653Z",
     "iopub.status.idle": "2021-06-21T05:45:29.058886Z",
     "shell.execute_reply": "2021-06-21T05:45:29.059285Z",
     "shell.execute_reply.started": "2021-06-21T05:36:15.114619Z"
    },
    "papermill": {
     "duration": 0.033343,
     "end_time": "2021-06-21T05:45:29.059399",
     "exception": false,
     "start_time": "2021-06-21T05:45:29.026056",
     "status": "completed"
    },
    "tags": []
   },
   "outputs": [],
   "source": [
    "from keras.callbacks import CSVLogger, ModelCheckpoint\n",
    "script_name_base = \"TPS_KERAS_\"\n",
    "model_checkpoint = ModelCheckpoint('{:}.epoch{{epoch:02d}}-train{{loss:.5f}}-val{{val_loss:.5f}}.hdf5'.format(script_name_base),\n",
    "                                    save_best_only=True)"
   ]
  },
  {
   "cell_type": "code",
   "execution_count": 20,
   "id": "constitutional-award",
   "metadata": {
    "execution": {
     "iopub.execute_input": "2021-06-21T05:45:29.117912Z",
     "iopub.status.busy": "2021-06-21T05:45:29.117258Z",
     "iopub.status.idle": "2021-06-21T05:45:29.120490Z",
     "shell.execute_reply": "2021-06-21T05:45:29.119992Z",
     "shell.execute_reply.started": "2021-06-21T05:36:17.498837Z"
    },
    "papermill": {
     "duration": 0.034116,
     "end_time": "2021-06-21T05:45:29.120620",
     "exception": false,
     "start_time": "2021-06-21T05:45:29.086504",
     "status": "completed"
    },
    "tags": []
   },
   "outputs": [],
   "source": [
    "import os\n",
    "import glob\n",
    "\n",
    "files = glob.glob('./*')\n",
    "for f in files:\n",
    "    os.remove(f)"
   ]
  },
  {
   "cell_type": "code",
   "execution_count": 21,
   "id": "worst-caribbean",
   "metadata": {
    "execution": {
     "iopub.execute_input": "2021-06-21T05:45:29.180191Z",
     "iopub.status.busy": "2021-06-21T05:45:29.179421Z",
     "iopub.status.idle": "2021-06-21T05:51:09.819389Z",
     "shell.execute_reply": "2021-06-21T05:51:09.819793Z",
     "shell.execute_reply.started": "2021-06-21T05:36:19.634612Z"
    },
    "papermill": {
     "duration": 340.671683,
     "end_time": "2021-06-21T05:51:09.819948",
     "exception": false,
     "start_time": "2021-06-21T05:45:29.148265",
     "status": "completed"
    },
    "tags": []
   },
   "outputs": [
    {
     "name": "stdout",
     "output_type": "stream",
     "text": [
      "Epoch 1/500\n",
      "5000/5000 [==============================] - 36s 6ms/step - loss: 1.8182 - custom_metric: 1.8118 - val_loss: 1.7526 - val_custom_metric: 1.7521\n",
      "Epoch 2/500\n",
      "5000/5000 [==============================] - 30s 6ms/step - loss: 1.7595 - custom_metric: 1.7589 - val_loss: 1.7533 - val_custom_metric: 1.7527\n",
      "Epoch 3/500\n",
      "5000/5000 [==============================] - 31s 6ms/step - loss: 1.7465 - custom_metric: 1.7459 - val_loss: 1.7497 - val_custom_metric: 1.7490\n",
      "Epoch 4/500\n",
      "5000/5000 [==============================] - 31s 6ms/step - loss: 1.7429 - custom_metric: 1.7421 - val_loss: 1.7489 - val_custom_metric: 1.7480\n",
      "Epoch 5/500\n",
      "5000/5000 [==============================] - 30s 6ms/step - loss: 1.7396 - custom_metric: 1.7387 - val_loss: 1.7482 - val_custom_metric: 1.7472\n",
      "Epoch 6/500\n",
      "5000/5000 [==============================] - 31s 6ms/step - loss: 1.7403 - custom_metric: 1.7392 - val_loss: 1.7479 - val_custom_metric: 1.7468\n",
      "Epoch 7/500\n",
      "5000/5000 [==============================] - 30s 6ms/step - loss: 1.7337 - custom_metric: 1.7325 - val_loss: 1.7496 - val_custom_metric: 1.7484\n",
      "Epoch 8/500\n",
      "5000/5000 [==============================] - 30s 6ms/step - loss: 1.7326 - custom_metric: 1.7312 - val_loss: 1.7503 - val_custom_metric: 1.7489\n",
      "Epoch 9/500\n",
      "5000/5000 [==============================] - 31s 6ms/step - loss: 1.7275 - custom_metric: 1.7261 - val_loss: 1.7497 - val_custom_metric: 1.7483\n",
      "Epoch 10/500\n",
      "5000/5000 [==============================] - 31s 6ms/step - loss: 1.7301 - custom_metric: 1.7286 - val_loss: 1.7510 - val_custom_metric: 1.7495\n",
      "Epoch 11/500\n",
      "5000/5000 [==============================] - 31s 6ms/step - loss: 1.7228 - custom_metric: 1.7213 - val_loss: 1.7510 - val_custom_metric: 1.7495\n",
      "Restoring model weights from the end of the best epoch.\n",
      "Epoch 00011: early stopping\n"
     ]
    },
    {
     "data": {
      "text/plain": [
       "<tensorflow.python.keras.callbacks.History at 0x7f0ed0c73590>"
      ]
     },
     "execution_count": 21,
     "metadata": {},
     "output_type": "execute_result"
    }
   ],
   "source": [
    "model.fit(X_train, Y_train,batch_size = 32, epochs = 500,validation_data=(X_test, Y_test),callbacks=[early_stopping,plateau,model_checkpoint],verbose = 1)"
   ]
  },
  {
   "cell_type": "code",
   "execution_count": 22,
   "id": "broken-blowing",
   "metadata": {
    "execution": {
     "iopub.execute_input": "2021-06-21T05:51:12.865398Z",
     "iopub.status.busy": "2021-06-21T05:51:12.864434Z",
     "iopub.status.idle": "2021-06-21T05:51:12.868491Z",
     "shell.execute_reply": "2021-06-21T05:51:12.869029Z",
     "shell.execute_reply.started": "2021-06-21T05:44:29.770551Z"
    },
    "papermill": {
     "duration": 1.432759,
     "end_time": "2021-06-21T05:51:12.869207",
     "exception": false,
     "start_time": "2021-06-21T05:51:11.436448",
     "status": "completed"
    },
    "tags": []
   },
   "outputs": [
    {
     "name": "stdout",
     "output_type": "stream",
     "text": [
      "./TPS_KERAS_.epoch06-train1.74040-val1.74794.hdf5\n",
      "./__notebook__.ipynb\n",
      "./TPS_KERAS_.epoch04-train1.74573-val1.74891.hdf5\n",
      "./TPS_KERAS_.epoch03-train1.74942-val1.74972.hdf5\n",
      "./TPS_KERAS_.epoch05-train1.74267-val1.74819.hdf5\n",
      "./TPS_KERAS_.epoch01-train1.77856-val1.75265.hdf5\n"
     ]
    }
   ],
   "source": [
    "for dirname, _, filenames in os.walk('./'):\n",
    "    for filename in filenames:\n",
    "        print(os.path.join(dirname, filename))"
   ]
  },
  {
   "cell_type": "code",
   "execution_count": 23,
   "id": "armed-swaziland",
   "metadata": {
    "execution": {
     "iopub.execute_input": "2021-06-21T05:51:15.684685Z",
     "iopub.status.busy": "2021-06-21T05:51:15.684106Z",
     "iopub.status.idle": "2021-06-21T05:51:15.688091Z",
     "shell.execute_reply": "2021-06-21T05:51:15.687677Z",
     "shell.execute_reply.started": "2021-06-21T05:44:39.742100Z"
    },
    "papermill": {
     "duration": 1.40498,
     "end_time": "2021-06-21T05:51:15.688208",
     "exception": false,
     "start_time": "2021-06-21T05:51:14.283228",
     "status": "completed"
    },
    "tags": []
   },
   "outputs": [],
   "source": [
    "del model"
   ]
  },
  {
   "cell_type": "code",
   "execution_count": 24,
   "id": "advanced-nicaragua",
   "metadata": {
    "execution": {
     "iopub.execute_input": "2021-06-21T05:51:18.525825Z",
     "iopub.status.busy": "2021-06-21T05:51:18.524962Z",
     "iopub.status.idle": "2021-06-21T05:51:18.718237Z",
     "shell.execute_reply": "2021-06-21T05:51:18.717695Z",
     "shell.execute_reply.started": "2021-06-21T05:44:40.719605Z"
    },
    "papermill": {
     "duration": 1.629794,
     "end_time": "2021-06-21T05:51:18.718359",
     "exception": false,
     "start_time": "2021-06-21T05:51:17.088565",
     "status": "completed"
    },
    "tags": []
   },
   "outputs": [],
   "source": [
    "conv_inputs = layers.Input(shape = (75))\n",
    "#----------- Embedding layers ----------------------\n",
    "embed = layers.Embedding (input_dim = 1024, \n",
    "                          output_dim = 7,\n",
    "                          embeddings_regularizer='l2')(conv_inputs)\n",
    "#----------- Convolution layers ----------------------\n",
    "embed = layers.Conv1D(128,1,activation = 'relu')(embed)        \n",
    "embed = layers.Flatten()(embed)\n",
    "hidden = layers.Dropout(0.5)(embed)\n",
    "\n",
    "#----------- Residual blocks layers ----------------------\n",
    "hidden = tfa.layers.WeightNormalization(\n",
    "            layers.Dense(\n",
    "            units=64,\n",
    "            activation ='selu',\n",
    "            kernel_initializer = \"lecun_normal\"))(hidden)\n",
    "\n",
    "output = layers.Dropout(0.3)(layers.Concatenate()([embed, hidden]))\n",
    "output = tfa.layers.WeightNormalization(\n",
    "layers.Dense(\n",
    "            units = 32,\n",
    "            activation='relu',\n",
    "            kernel_initializer = \"lecun_normal\"))(output) \n",
    "output = layers.Dropout(0.4)(layers.Concatenate()([embed, hidden, output]))\n",
    "output = tfa.layers.WeightNormalization(\n",
    "layers.Dense(\n",
    "            units = 16, \n",
    "            activation = 'elu',\n",
    "            kernel_initializer = \"lecun_normal\"))(output)\n",
    "\n",
    "#----------- Final layer -----------------------\n",
    "conv_outputs = layers.Dense(\n",
    "            units = 9, \n",
    "            activation ='softmax',\n",
    "            kernel_initializer =\"lecun_normal\")(output)\n",
    "\n",
    "#----------- Model instantiation  ---------------\n",
    "model = Model(conv_inputs,conv_outputs)"
   ]
  },
  {
   "cell_type": "code",
   "execution_count": 25,
   "id": "supreme-preference",
   "metadata": {
    "execution": {
     "iopub.execute_input": "2021-06-21T05:51:21.548447Z",
     "iopub.status.busy": "2021-06-21T05:51:21.547652Z",
     "iopub.status.idle": "2021-06-21T05:51:21.552351Z",
     "shell.execute_reply": "2021-06-21T05:51:21.552947Z",
     "shell.execute_reply.started": "2021-06-21T05:44:42.239250Z"
    },
    "papermill": {
     "duration": 1.434216,
     "end_time": "2021-06-21T05:51:21.553123",
     "exception": false,
     "start_time": "2021-06-21T05:51:20.118907",
     "status": "completed"
    },
    "tags": []
   },
   "outputs": [
    {
     "name": "stdout",
     "output_type": "stream",
     "text": [
      "./TPS_KERAS_.epoch06-train1.74040-val1.74794.hdf5\n"
     ]
    }
   ],
   "source": [
    "import glob\n",
    "import os\n",
    "\n",
    "list_of_files = glob.glob('./*.hdf5') # * means all if need specific format then *.csv\n",
    "latest_file = max(list_of_files, key=os.path.getctime)\n",
    "print(latest_file)"
   ]
  },
  {
   "cell_type": "code",
   "execution_count": 26,
   "id": "great-working",
   "metadata": {
    "execution": {
     "iopub.execute_input": "2021-06-21T05:51:24.674690Z",
     "iopub.status.busy": "2021-06-21T05:51:24.673670Z",
     "iopub.status.idle": "2021-06-21T05:51:24.686362Z",
     "shell.execute_reply": "2021-06-21T05:51:24.685566Z",
     "shell.execute_reply.started": "2021-06-21T05:44:46.210156Z"
    },
    "papermill": {
     "duration": 1.471868,
     "end_time": "2021-06-21T05:51:24.686501",
     "exception": false,
     "start_time": "2021-06-21T05:51:23.214633",
     "status": "completed"
    },
    "tags": []
   },
   "outputs": [],
   "source": [
    "model.load_weights(latest_file)"
   ]
  },
  {
   "cell_type": "code",
   "execution_count": 27,
   "id": "eleven-pavilion",
   "metadata": {
    "execution": {
     "iopub.execute_input": "2021-06-21T05:51:27.506524Z",
     "iopub.status.busy": "2021-06-21T05:51:27.505758Z",
     "iopub.status.idle": "2021-06-21T05:51:42.065955Z",
     "shell.execute_reply": "2021-06-21T05:51:42.065379Z"
    },
    "papermill": {
     "duration": 15.975946,
     "end_time": "2021-06-21T05:51:42.066110",
     "exception": false,
     "start_time": "2021-06-21T05:51:26.090164",
     "status": "completed"
    },
    "tags": []
   },
   "outputs": [],
   "source": [
    "pred=model.predict(X_train)\n",
    "pred1=model.predict(X_test)"
   ]
  },
  {
   "cell_type": "code",
   "execution_count": 28,
   "id": "premium-edwards",
   "metadata": {
    "execution": {
     "iopub.execute_input": "2021-06-21T05:51:45.112264Z",
     "iopub.status.busy": "2021-06-21T05:51:45.111408Z",
     "iopub.status.idle": "2021-06-21T05:51:45.113992Z",
     "shell.execute_reply": "2021-06-21T05:51:45.113592Z",
     "shell.execute_reply.started": "2021-06-20T13:06:38.364075Z"
    },
    "papermill": {
     "duration": 1.61777,
     "end_time": "2021-06-21T05:51:45.114103",
     "exception": false,
     "start_time": "2021-06-21T05:51:43.496333",
     "status": "completed"
    },
    "tags": []
   },
   "outputs": [],
   "source": [
    "from sklearn.metrics import log_loss"
   ]
  },
  {
   "cell_type": "code",
   "execution_count": 29,
   "id": "tired-suspension",
   "metadata": {
    "execution": {
     "iopub.execute_input": "2021-06-21T05:51:47.955102Z",
     "iopub.status.busy": "2021-06-21T05:51:47.953867Z",
     "iopub.status.idle": "2021-06-21T05:51:48.135697Z",
     "shell.execute_reply": "2021-06-21T05:51:48.136104Z",
     "shell.execute_reply.started": "2021-06-20T13:06:38.376479Z"
    },
    "papermill": {
     "duration": 1.591324,
     "end_time": "2021-06-21T05:51:48.136263",
     "exception": false,
     "start_time": "2021-06-21T05:51:46.544939",
     "status": "completed"
    },
    "tags": []
   },
   "outputs": [
    {
     "data": {
      "text/plain": [
       "1.7281464271697797"
      ]
     },
     "execution_count": 29,
     "metadata": {},
     "output_type": "execute_result"
    }
   ],
   "source": [
    "log_loss(Y_train, pred)"
   ]
  },
  {
   "cell_type": "code",
   "execution_count": 30,
   "id": "exclusive-tampa",
   "metadata": {
    "execution": {
     "iopub.execute_input": "2021-06-21T05:51:50.963140Z",
     "iopub.status.busy": "2021-06-21T05:51:50.962256Z",
     "iopub.status.idle": "2021-06-21T05:51:51.009409Z",
     "shell.execute_reply": "2021-06-21T05:51:51.009006Z",
     "shell.execute_reply.started": "2021-06-20T13:06:38.587938Z"
    },
    "papermill": {
     "duration": 1.447267,
     "end_time": "2021-06-21T05:51:51.009525",
     "exception": false,
     "start_time": "2021-06-21T05:51:49.562258",
     "status": "completed"
    },
    "tags": []
   },
   "outputs": [
    {
     "data": {
      "text/plain": [
       "1.7467809591809287"
      ]
     },
     "execution_count": 30,
     "metadata": {},
     "output_type": "execute_result"
    }
   ],
   "source": [
    "log_loss(Y_test, pred1)"
   ]
  },
  {
   "cell_type": "code",
   "execution_count": 31,
   "id": "excited-tragedy",
   "metadata": {
    "execution": {
     "iopub.execute_input": "2021-06-21T05:51:53.851279Z",
     "iopub.status.busy": "2021-06-21T05:51:53.850019Z",
     "iopub.status.idle": "2021-06-21T05:51:53.873708Z",
     "shell.execute_reply": "2021-06-21T05:51:53.874116Z",
     "shell.execute_reply.started": "2021-06-20T13:06:38.646252Z"
    },
    "papermill": {
     "duration": 1.429646,
     "end_time": "2021-06-21T05:51:53.874257",
     "exception": false,
     "start_time": "2021-06-21T05:51:52.444611",
     "status": "completed"
    },
    "tags": []
   },
   "outputs": [
    {
     "data": {
      "text/html": [
       "<div>\n",
       "<style scoped>\n",
       "    .dataframe tbody tr th:only-of-type {\n",
       "        vertical-align: middle;\n",
       "    }\n",
       "\n",
       "    .dataframe tbody tr th {\n",
       "        vertical-align: top;\n",
       "    }\n",
       "\n",
       "    .dataframe thead th {\n",
       "        text-align: right;\n",
       "    }\n",
       "</style>\n",
       "<table border=\"1\" class=\"dataframe\">\n",
       "  <thead>\n",
       "    <tr style=\"text-align: right;\">\n",
       "      <th></th>\n",
       "      <th>id</th>\n",
       "      <th>feature_0</th>\n",
       "      <th>feature_1</th>\n",
       "      <th>feature_2</th>\n",
       "      <th>feature_3</th>\n",
       "      <th>feature_4</th>\n",
       "      <th>feature_5</th>\n",
       "      <th>feature_6</th>\n",
       "      <th>feature_7</th>\n",
       "      <th>feature_8</th>\n",
       "      <th>...</th>\n",
       "      <th>feature_65</th>\n",
       "      <th>feature_66</th>\n",
       "      <th>feature_67</th>\n",
       "      <th>feature_68</th>\n",
       "      <th>feature_69</th>\n",
       "      <th>feature_70</th>\n",
       "      <th>feature_71</th>\n",
       "      <th>feature_72</th>\n",
       "      <th>feature_73</th>\n",
       "      <th>feature_74</th>\n",
       "    </tr>\n",
       "  </thead>\n",
       "  <tbody>\n",
       "    <tr>\n",
       "      <th>0</th>\n",
       "      <td>200000</td>\n",
       "      <td>0</td>\n",
       "      <td>0</td>\n",
       "      <td>0</td>\n",
       "      <td>0</td>\n",
       "      <td>0</td>\n",
       "      <td>0</td>\n",
       "      <td>0</td>\n",
       "      <td>0</td>\n",
       "      <td>0</td>\n",
       "      <td>...</td>\n",
       "      <td>0</td>\n",
       "      <td>0</td>\n",
       "      <td>0</td>\n",
       "      <td>0</td>\n",
       "      <td>0</td>\n",
       "      <td>0</td>\n",
       "      <td>0</td>\n",
       "      <td>0</td>\n",
       "      <td>0</td>\n",
       "      <td>0</td>\n",
       "    </tr>\n",
       "    <tr>\n",
       "      <th>1</th>\n",
       "      <td>200001</td>\n",
       "      <td>1</td>\n",
       "      <td>2</td>\n",
       "      <td>0</td>\n",
       "      <td>0</td>\n",
       "      <td>0</td>\n",
       "      <td>0</td>\n",
       "      <td>0</td>\n",
       "      <td>0</td>\n",
       "      <td>0</td>\n",
       "      <td>...</td>\n",
       "      <td>3</td>\n",
       "      <td>1</td>\n",
       "      <td>3</td>\n",
       "      <td>0</td>\n",
       "      <td>0</td>\n",
       "      <td>0</td>\n",
       "      <td>0</td>\n",
       "      <td>3</td>\n",
       "      <td>0</td>\n",
       "      <td>0</td>\n",
       "    </tr>\n",
       "    <tr>\n",
       "      <th>2</th>\n",
       "      <td>200002</td>\n",
       "      <td>0</td>\n",
       "      <td>1</td>\n",
       "      <td>7</td>\n",
       "      <td>1</td>\n",
       "      <td>0</td>\n",
       "      <td>0</td>\n",
       "      <td>0</td>\n",
       "      <td>0</td>\n",
       "      <td>6</td>\n",
       "      <td>...</td>\n",
       "      <td>3</td>\n",
       "      <td>0</td>\n",
       "      <td>0</td>\n",
       "      <td>0</td>\n",
       "      <td>0</td>\n",
       "      <td>3</td>\n",
       "      <td>0</td>\n",
       "      <td>2</td>\n",
       "      <td>0</td>\n",
       "      <td>0</td>\n",
       "    </tr>\n",
       "    <tr>\n",
       "      <th>3</th>\n",
       "      <td>200003</td>\n",
       "      <td>0</td>\n",
       "      <td>0</td>\n",
       "      <td>0</td>\n",
       "      <td>4</td>\n",
       "      <td>3</td>\n",
       "      <td>1</td>\n",
       "      <td>0</td>\n",
       "      <td>0</td>\n",
       "      <td>0</td>\n",
       "      <td>...</td>\n",
       "      <td>0</td>\n",
       "      <td>0</td>\n",
       "      <td>0</td>\n",
       "      <td>1</td>\n",
       "      <td>0</td>\n",
       "      <td>0</td>\n",
       "      <td>0</td>\n",
       "      <td>4</td>\n",
       "      <td>0</td>\n",
       "      <td>0</td>\n",
       "    </tr>\n",
       "    <tr>\n",
       "      <th>4</th>\n",
       "      <td>200004</td>\n",
       "      <td>0</td>\n",
       "      <td>0</td>\n",
       "      <td>5</td>\n",
       "      <td>0</td>\n",
       "      <td>0</td>\n",
       "      <td>0</td>\n",
       "      <td>0</td>\n",
       "      <td>0</td>\n",
       "      <td>0</td>\n",
       "      <td>...</td>\n",
       "      <td>0</td>\n",
       "      <td>0</td>\n",
       "      <td>0</td>\n",
       "      <td>0</td>\n",
       "      <td>0</td>\n",
       "      <td>0</td>\n",
       "      <td>0</td>\n",
       "      <td>0</td>\n",
       "      <td>1</td>\n",
       "      <td>0</td>\n",
       "    </tr>\n",
       "    <tr>\n",
       "      <th>...</th>\n",
       "      <td>...</td>\n",
       "      <td>...</td>\n",
       "      <td>...</td>\n",
       "      <td>...</td>\n",
       "      <td>...</td>\n",
       "      <td>...</td>\n",
       "      <td>...</td>\n",
       "      <td>...</td>\n",
       "      <td>...</td>\n",
       "      <td>...</td>\n",
       "      <td>...</td>\n",
       "      <td>...</td>\n",
       "      <td>...</td>\n",
       "      <td>...</td>\n",
       "      <td>...</td>\n",
       "      <td>...</td>\n",
       "      <td>...</td>\n",
       "      <td>...</td>\n",
       "      <td>...</td>\n",
       "      <td>...</td>\n",
       "      <td>...</td>\n",
       "    </tr>\n",
       "    <tr>\n",
       "      <th>99995</th>\n",
       "      <td>299995</td>\n",
       "      <td>0</td>\n",
       "      <td>0</td>\n",
       "      <td>0</td>\n",
       "      <td>0</td>\n",
       "      <td>0</td>\n",
       "      <td>0</td>\n",
       "      <td>0</td>\n",
       "      <td>0</td>\n",
       "      <td>0</td>\n",
       "      <td>...</td>\n",
       "      <td>0</td>\n",
       "      <td>0</td>\n",
       "      <td>0</td>\n",
       "      <td>0</td>\n",
       "      <td>0</td>\n",
       "      <td>0</td>\n",
       "      <td>0</td>\n",
       "      <td>0</td>\n",
       "      <td>0</td>\n",
       "      <td>0</td>\n",
       "    </tr>\n",
       "    <tr>\n",
       "      <th>99996</th>\n",
       "      <td>299996</td>\n",
       "      <td>0</td>\n",
       "      <td>0</td>\n",
       "      <td>0</td>\n",
       "      <td>0</td>\n",
       "      <td>0</td>\n",
       "      <td>1</td>\n",
       "      <td>0</td>\n",
       "      <td>0</td>\n",
       "      <td>0</td>\n",
       "      <td>...</td>\n",
       "      <td>0</td>\n",
       "      <td>0</td>\n",
       "      <td>0</td>\n",
       "      <td>0</td>\n",
       "      <td>0</td>\n",
       "      <td>0</td>\n",
       "      <td>0</td>\n",
       "      <td>0</td>\n",
       "      <td>0</td>\n",
       "      <td>0</td>\n",
       "    </tr>\n",
       "    <tr>\n",
       "      <th>99997</th>\n",
       "      <td>299997</td>\n",
       "      <td>0</td>\n",
       "      <td>0</td>\n",
       "      <td>0</td>\n",
       "      <td>0</td>\n",
       "      <td>0</td>\n",
       "      <td>0</td>\n",
       "      <td>0</td>\n",
       "      <td>0</td>\n",
       "      <td>0</td>\n",
       "      <td>...</td>\n",
       "      <td>0</td>\n",
       "      <td>0</td>\n",
       "      <td>1</td>\n",
       "      <td>0</td>\n",
       "      <td>0</td>\n",
       "      <td>0</td>\n",
       "      <td>0</td>\n",
       "      <td>0</td>\n",
       "      <td>0</td>\n",
       "      <td>2</td>\n",
       "    </tr>\n",
       "    <tr>\n",
       "      <th>99998</th>\n",
       "      <td>299998</td>\n",
       "      <td>0</td>\n",
       "      <td>0</td>\n",
       "      <td>0</td>\n",
       "      <td>0</td>\n",
       "      <td>2</td>\n",
       "      <td>2</td>\n",
       "      <td>0</td>\n",
       "      <td>0</td>\n",
       "      <td>1</td>\n",
       "      <td>...</td>\n",
       "      <td>1</td>\n",
       "      <td>0</td>\n",
       "      <td>0</td>\n",
       "      <td>0</td>\n",
       "      <td>0</td>\n",
       "      <td>1</td>\n",
       "      <td>0</td>\n",
       "      <td>1</td>\n",
       "      <td>0</td>\n",
       "      <td>0</td>\n",
       "    </tr>\n",
       "    <tr>\n",
       "      <th>99999</th>\n",
       "      <td>299999</td>\n",
       "      <td>0</td>\n",
       "      <td>0</td>\n",
       "      <td>0</td>\n",
       "      <td>0</td>\n",
       "      <td>0</td>\n",
       "      <td>0</td>\n",
       "      <td>6</td>\n",
       "      <td>0</td>\n",
       "      <td>1</td>\n",
       "      <td>...</td>\n",
       "      <td>0</td>\n",
       "      <td>2</td>\n",
       "      <td>0</td>\n",
       "      <td>0</td>\n",
       "      <td>0</td>\n",
       "      <td>0</td>\n",
       "      <td>0</td>\n",
       "      <td>0</td>\n",
       "      <td>0</td>\n",
       "      <td>0</td>\n",
       "    </tr>\n",
       "  </tbody>\n",
       "</table>\n",
       "<p>100000 rows × 76 columns</p>\n",
       "</div>"
      ],
      "text/plain": [
       "           id  feature_0  feature_1  feature_2  feature_3  feature_4  \\\n",
       "0      200000          0          0          0          0          0   \n",
       "1      200001          1          2          0          0          0   \n",
       "2      200002          0          1          7          1          0   \n",
       "3      200003          0          0          0          4          3   \n",
       "4      200004          0          0          5          0          0   \n",
       "...       ...        ...        ...        ...        ...        ...   \n",
       "99995  299995          0          0          0          0          0   \n",
       "99996  299996          0          0          0          0          0   \n",
       "99997  299997          0          0          0          0          0   \n",
       "99998  299998          0          0          0          0          2   \n",
       "99999  299999          0          0          0          0          0   \n",
       "\n",
       "       feature_5  feature_6  feature_7  feature_8  ...  feature_65  \\\n",
       "0              0          0          0          0  ...           0   \n",
       "1              0          0          0          0  ...           3   \n",
       "2              0          0          0          6  ...           3   \n",
       "3              1          0          0          0  ...           0   \n",
       "4              0          0          0          0  ...           0   \n",
       "...          ...        ...        ...        ...  ...         ...   \n",
       "99995          0          0          0          0  ...           0   \n",
       "99996          1          0          0          0  ...           0   \n",
       "99997          0          0          0          0  ...           0   \n",
       "99998          2          0          0          1  ...           1   \n",
       "99999          0          6          0          1  ...           0   \n",
       "\n",
       "       feature_66  feature_67  feature_68  feature_69  feature_70  feature_71  \\\n",
       "0               0           0           0           0           0           0   \n",
       "1               1           3           0           0           0           0   \n",
       "2               0           0           0           0           3           0   \n",
       "3               0           0           1           0           0           0   \n",
       "4               0           0           0           0           0           0   \n",
       "...           ...         ...         ...         ...         ...         ...   \n",
       "99995           0           0           0           0           0           0   \n",
       "99996           0           0           0           0           0           0   \n",
       "99997           0           1           0           0           0           0   \n",
       "99998           0           0           0           0           1           0   \n",
       "99999           2           0           0           0           0           0   \n",
       "\n",
       "       feature_72  feature_73  feature_74  \n",
       "0               0           0           0  \n",
       "1               3           0           0  \n",
       "2               2           0           0  \n",
       "3               4           0           0  \n",
       "4               0           1           0  \n",
       "...           ...         ...         ...  \n",
       "99995           0           0           0  \n",
       "99996           0           0           0  \n",
       "99997           0           0           2  \n",
       "99998           1           0           0  \n",
       "99999           0           0           0  \n",
       "\n",
       "[100000 rows x 76 columns]"
      ]
     },
     "execution_count": 31,
     "metadata": {},
     "output_type": "execute_result"
    }
   ],
   "source": [
    "test"
   ]
  },
  {
   "cell_type": "code",
   "execution_count": 32,
   "id": "italic-bankruptcy",
   "metadata": {
    "execution": {
     "iopub.execute_input": "2021-06-21T05:51:56.929465Z",
     "iopub.status.busy": "2021-06-21T05:51:56.928561Z",
     "iopub.status.idle": "2021-06-21T05:51:56.933626Z",
     "shell.execute_reply": "2021-06-21T05:51:56.933115Z",
     "shell.execute_reply.started": "2021-06-20T13:06:38.682525Z"
    },
    "papermill": {
     "duration": 1.429731,
     "end_time": "2021-06-21T05:51:56.933750",
     "exception": false,
     "start_time": "2021-06-21T05:51:55.504019",
     "status": "completed"
    },
    "tags": []
   },
   "outputs": [
    {
     "data": {
      "text/html": [
       "<div>\n",
       "<style scoped>\n",
       "    .dataframe tbody tr th:only-of-type {\n",
       "        vertical-align: middle;\n",
       "    }\n",
       "\n",
       "    .dataframe tbody tr th {\n",
       "        vertical-align: top;\n",
       "    }\n",
       "\n",
       "    .dataframe thead th {\n",
       "        text-align: right;\n",
       "    }\n",
       "</style>\n",
       "<table border=\"1\" class=\"dataframe\">\n",
       "  <thead>\n",
       "    <tr style=\"text-align: right;\">\n",
       "      <th></th>\n",
       "      <th>Class_1</th>\n",
       "      <th>Class_2</th>\n",
       "      <th>Class_3</th>\n",
       "      <th>Class_4</th>\n",
       "      <th>Class_5</th>\n",
       "      <th>Class_6</th>\n",
       "      <th>Class_7</th>\n",
       "      <th>Class_8</th>\n",
       "      <th>Class_9</th>\n",
       "    </tr>\n",
       "    <tr>\n",
       "      <th>id</th>\n",
       "      <th></th>\n",
       "      <th></th>\n",
       "      <th></th>\n",
       "      <th></th>\n",
       "      <th></th>\n",
       "      <th></th>\n",
       "      <th></th>\n",
       "      <th></th>\n",
       "      <th></th>\n",
       "    </tr>\n",
       "  </thead>\n",
       "  <tbody>\n",
       "    <tr>\n",
       "      <th>200000</th>\n",
       "      <td>0.1111</td>\n",
       "      <td>0.1111</td>\n",
       "      <td>0.1111</td>\n",
       "      <td>0.1111</td>\n",
       "      <td>0.1111</td>\n",
       "      <td>0.1111</td>\n",
       "      <td>0.1111</td>\n",
       "      <td>0.1111</td>\n",
       "      <td>0.1111</td>\n",
       "    </tr>\n",
       "    <tr>\n",
       "      <th>200001</th>\n",
       "      <td>0.1111</td>\n",
       "      <td>0.1111</td>\n",
       "      <td>0.1111</td>\n",
       "      <td>0.1111</td>\n",
       "      <td>0.1111</td>\n",
       "      <td>0.1111</td>\n",
       "      <td>0.1111</td>\n",
       "      <td>0.1111</td>\n",
       "      <td>0.1111</td>\n",
       "    </tr>\n",
       "    <tr>\n",
       "      <th>200002</th>\n",
       "      <td>0.1111</td>\n",
       "      <td>0.1111</td>\n",
       "      <td>0.1111</td>\n",
       "      <td>0.1111</td>\n",
       "      <td>0.1111</td>\n",
       "      <td>0.1111</td>\n",
       "      <td>0.1111</td>\n",
       "      <td>0.1111</td>\n",
       "      <td>0.1111</td>\n",
       "    </tr>\n",
       "    <tr>\n",
       "      <th>200003</th>\n",
       "      <td>0.1111</td>\n",
       "      <td>0.1111</td>\n",
       "      <td>0.1111</td>\n",
       "      <td>0.1111</td>\n",
       "      <td>0.1111</td>\n",
       "      <td>0.1111</td>\n",
       "      <td>0.1111</td>\n",
       "      <td>0.1111</td>\n",
       "      <td>0.1111</td>\n",
       "    </tr>\n",
       "    <tr>\n",
       "      <th>200004</th>\n",
       "      <td>0.1111</td>\n",
       "      <td>0.1111</td>\n",
       "      <td>0.1111</td>\n",
       "      <td>0.1111</td>\n",
       "      <td>0.1111</td>\n",
       "      <td>0.1111</td>\n",
       "      <td>0.1111</td>\n",
       "      <td>0.1111</td>\n",
       "      <td>0.1111</td>\n",
       "    </tr>\n",
       "    <tr>\n",
       "      <th>...</th>\n",
       "      <td>...</td>\n",
       "      <td>...</td>\n",
       "      <td>...</td>\n",
       "      <td>...</td>\n",
       "      <td>...</td>\n",
       "      <td>...</td>\n",
       "      <td>...</td>\n",
       "      <td>...</td>\n",
       "      <td>...</td>\n",
       "    </tr>\n",
       "    <tr>\n",
       "      <th>299995</th>\n",
       "      <td>0.1111</td>\n",
       "      <td>0.1111</td>\n",
       "      <td>0.1111</td>\n",
       "      <td>0.1111</td>\n",
       "      <td>0.1111</td>\n",
       "      <td>0.1111</td>\n",
       "      <td>0.1111</td>\n",
       "      <td>0.1111</td>\n",
       "      <td>0.1111</td>\n",
       "    </tr>\n",
       "    <tr>\n",
       "      <th>299996</th>\n",
       "      <td>0.1111</td>\n",
       "      <td>0.1111</td>\n",
       "      <td>0.1111</td>\n",
       "      <td>0.1111</td>\n",
       "      <td>0.1111</td>\n",
       "      <td>0.1111</td>\n",
       "      <td>0.1111</td>\n",
       "      <td>0.1111</td>\n",
       "      <td>0.1111</td>\n",
       "    </tr>\n",
       "    <tr>\n",
       "      <th>299997</th>\n",
       "      <td>0.1111</td>\n",
       "      <td>0.1111</td>\n",
       "      <td>0.1111</td>\n",
       "      <td>0.1111</td>\n",
       "      <td>0.1111</td>\n",
       "      <td>0.1111</td>\n",
       "      <td>0.1111</td>\n",
       "      <td>0.1111</td>\n",
       "      <td>0.1111</td>\n",
       "    </tr>\n",
       "    <tr>\n",
       "      <th>299998</th>\n",
       "      <td>0.1111</td>\n",
       "      <td>0.1111</td>\n",
       "      <td>0.1111</td>\n",
       "      <td>0.1111</td>\n",
       "      <td>0.1111</td>\n",
       "      <td>0.1111</td>\n",
       "      <td>0.1111</td>\n",
       "      <td>0.1111</td>\n",
       "      <td>0.1111</td>\n",
       "    </tr>\n",
       "    <tr>\n",
       "      <th>299999</th>\n",
       "      <td>0.1111</td>\n",
       "      <td>0.1111</td>\n",
       "      <td>0.1111</td>\n",
       "      <td>0.1111</td>\n",
       "      <td>0.1111</td>\n",
       "      <td>0.1111</td>\n",
       "      <td>0.1111</td>\n",
       "      <td>0.1111</td>\n",
       "      <td>0.1111</td>\n",
       "    </tr>\n",
       "  </tbody>\n",
       "</table>\n",
       "<p>100000 rows × 9 columns</p>\n",
       "</div>"
      ],
      "text/plain": [
       "        Class_1  Class_2  Class_3  Class_4  Class_5  Class_6  Class_7  \\\n",
       "id                                                                      \n",
       "200000   0.1111   0.1111   0.1111   0.1111   0.1111   0.1111   0.1111   \n",
       "200001   0.1111   0.1111   0.1111   0.1111   0.1111   0.1111   0.1111   \n",
       "200002   0.1111   0.1111   0.1111   0.1111   0.1111   0.1111   0.1111   \n",
       "200003   0.1111   0.1111   0.1111   0.1111   0.1111   0.1111   0.1111   \n",
       "200004   0.1111   0.1111   0.1111   0.1111   0.1111   0.1111   0.1111   \n",
       "...         ...      ...      ...      ...      ...      ...      ...   \n",
       "299995   0.1111   0.1111   0.1111   0.1111   0.1111   0.1111   0.1111   \n",
       "299996   0.1111   0.1111   0.1111   0.1111   0.1111   0.1111   0.1111   \n",
       "299997   0.1111   0.1111   0.1111   0.1111   0.1111   0.1111   0.1111   \n",
       "299998   0.1111   0.1111   0.1111   0.1111   0.1111   0.1111   0.1111   \n",
       "299999   0.1111   0.1111   0.1111   0.1111   0.1111   0.1111   0.1111   \n",
       "\n",
       "        Class_8  Class_9  \n",
       "id                        \n",
       "200000   0.1111   0.1111  \n",
       "200001   0.1111   0.1111  \n",
       "200002   0.1111   0.1111  \n",
       "200003   0.1111   0.1111  \n",
       "200004   0.1111   0.1111  \n",
       "...         ...      ...  \n",
       "299995   0.1111   0.1111  \n",
       "299996   0.1111   0.1111  \n",
       "299997   0.1111   0.1111  \n",
       "299998   0.1111   0.1111  \n",
       "299999   0.1111   0.1111  \n",
       "\n",
       "[100000 rows x 9 columns]"
      ]
     },
     "execution_count": 32,
     "metadata": {},
     "output_type": "execute_result"
    }
   ],
   "source": [
    "submission"
   ]
  },
  {
   "cell_type": "code",
   "execution_count": 33,
   "id": "inclusive-bedroom",
   "metadata": {
    "execution": {
     "iopub.execute_input": "2021-06-21T05:51:59.799957Z",
     "iopub.status.busy": "2021-06-21T05:51:59.798368Z",
     "iopub.status.idle": "2021-06-21T05:51:59.800709Z",
     "shell.execute_reply": "2021-06-21T05:51:59.801116Z",
     "shell.execute_reply.started": "2021-06-20T13:06:38.70756Z"
    },
    "papermill": {
     "duration": 1.43183,
     "end_time": "2021-06-21T05:51:59.801257",
     "exception": false,
     "start_time": "2021-06-21T05:51:58.369427",
     "status": "completed"
    },
    "tags": []
   },
   "outputs": [],
   "source": [
    "test.drop('id',axis=1,inplace=True)"
   ]
  },
  {
   "cell_type": "code",
   "execution_count": 34,
   "id": "further-correction",
   "metadata": {
    "execution": {
     "iopub.execute_input": "2021-06-21T05:52:02.611363Z",
     "iopub.status.busy": "2021-06-21T05:52:02.610600Z",
     "iopub.status.idle": "2021-06-21T05:52:09.588789Z",
     "shell.execute_reply": "2021-06-21T05:52:09.588285Z",
     "shell.execute_reply.started": "2021-06-20T13:06:38.744959Z"
    },
    "papermill": {
     "duration": 8.387555,
     "end_time": "2021-06-21T05:52:09.588934",
     "exception": false,
     "start_time": "2021-06-21T05:52:01.201379",
     "status": "completed"
    },
    "tags": []
   },
   "outputs": [],
   "source": [
    "pred_test=model.predict(test)"
   ]
  },
  {
   "cell_type": "code",
   "execution_count": 35,
   "id": "enabling-doctor",
   "metadata": {
    "execution": {
     "iopub.execute_input": "2021-06-21T05:52:12.892152Z",
     "iopub.status.busy": "2021-06-21T05:52:12.891069Z",
     "iopub.status.idle": "2021-06-21T05:52:12.911996Z",
     "shell.execute_reply": "2021-06-21T05:52:12.912446Z",
     "shell.execute_reply.started": "2021-06-20T13:06:48.902024Z"
    },
    "papermill": {
     "duration": 1.6086,
     "end_time": "2021-06-21T05:52:12.912628",
     "exception": false,
     "start_time": "2021-06-21T05:52:11.304028",
     "status": "completed"
    },
    "tags": []
   },
   "outputs": [
    {
     "data": {
      "text/html": [
       "<div>\n",
       "<style scoped>\n",
       "    .dataframe tbody tr th:only-of-type {\n",
       "        vertical-align: middle;\n",
       "    }\n",
       "\n",
       "    .dataframe tbody tr th {\n",
       "        vertical-align: top;\n",
       "    }\n",
       "\n",
       "    .dataframe thead th {\n",
       "        text-align: right;\n",
       "    }\n",
       "</style>\n",
       "<table border=\"1\" class=\"dataframe\">\n",
       "  <thead>\n",
       "    <tr style=\"text-align: right;\">\n",
       "      <th></th>\n",
       "      <th>Class_1</th>\n",
       "      <th>Class_2</th>\n",
       "      <th>Class_3</th>\n",
       "      <th>Class_4</th>\n",
       "      <th>Class_5</th>\n",
       "      <th>Class_6</th>\n",
       "      <th>Class_7</th>\n",
       "      <th>Class_8</th>\n",
       "      <th>Class_9</th>\n",
       "    </tr>\n",
       "    <tr>\n",
       "      <th>id</th>\n",
       "      <th></th>\n",
       "      <th></th>\n",
       "      <th></th>\n",
       "      <th></th>\n",
       "      <th></th>\n",
       "      <th></th>\n",
       "      <th></th>\n",
       "      <th></th>\n",
       "      <th></th>\n",
       "    </tr>\n",
       "  </thead>\n",
       "  <tbody>\n",
       "    <tr>\n",
       "      <th>200000</th>\n",
       "      <td>0.073245</td>\n",
       "      <td>0.434181</td>\n",
       "      <td>0.162922</td>\n",
       "      <td>0.026360</td>\n",
       "      <td>0.012662</td>\n",
       "      <td>0.122696</td>\n",
       "      <td>0.018188</td>\n",
       "      <td>0.040842</td>\n",
       "      <td>0.108904</td>\n",
       "    </tr>\n",
       "    <tr>\n",
       "      <th>200001</th>\n",
       "      <td>0.043210</td>\n",
       "      <td>0.064480</td>\n",
       "      <td>0.055019</td>\n",
       "      <td>0.018017</td>\n",
       "      <td>0.013170</td>\n",
       "      <td>0.256151</td>\n",
       "      <td>0.102905</td>\n",
       "      <td>0.315825</td>\n",
       "      <td>0.131224</td>\n",
       "    </tr>\n",
       "    <tr>\n",
       "      <th>200002</th>\n",
       "      <td>0.013478</td>\n",
       "      <td>0.015663</td>\n",
       "      <td>0.011043</td>\n",
       "      <td>0.007883</td>\n",
       "      <td>0.003152</td>\n",
       "      <td>0.805757</td>\n",
       "      <td>0.025042</td>\n",
       "      <td>0.089287</td>\n",
       "      <td>0.028697</td>\n",
       "    </tr>\n",
       "    <tr>\n",
       "      <th>200003</th>\n",
       "      <td>0.062156</td>\n",
       "      <td>0.132203</td>\n",
       "      <td>0.082273</td>\n",
       "      <td>0.036718</td>\n",
       "      <td>0.015348</td>\n",
       "      <td>0.202405</td>\n",
       "      <td>0.071836</td>\n",
       "      <td>0.225836</td>\n",
       "      <td>0.171224</td>\n",
       "    </tr>\n",
       "    <tr>\n",
       "      <th>200004</th>\n",
       "      <td>0.047616</td>\n",
       "      <td>0.106140</td>\n",
       "      <td>0.072350</td>\n",
       "      <td>0.024208</td>\n",
       "      <td>0.014730</td>\n",
       "      <td>0.282956</td>\n",
       "      <td>0.066712</td>\n",
       "      <td>0.226021</td>\n",
       "      <td>0.159268</td>\n",
       "    </tr>\n",
       "    <tr>\n",
       "      <th>...</th>\n",
       "      <td>...</td>\n",
       "      <td>...</td>\n",
       "      <td>...</td>\n",
       "      <td>...</td>\n",
       "      <td>...</td>\n",
       "      <td>...</td>\n",
       "      <td>...</td>\n",
       "      <td>...</td>\n",
       "      <td>...</td>\n",
       "    </tr>\n",
       "    <tr>\n",
       "      <th>299995</th>\n",
       "      <td>0.097166</td>\n",
       "      <td>0.385985</td>\n",
       "      <td>0.136681</td>\n",
       "      <td>0.032747</td>\n",
       "      <td>0.019365</td>\n",
       "      <td>0.085716</td>\n",
       "      <td>0.030696</td>\n",
       "      <td>0.069389</td>\n",
       "      <td>0.142255</td>\n",
       "    </tr>\n",
       "    <tr>\n",
       "      <th>299996</th>\n",
       "      <td>0.051158</td>\n",
       "      <td>0.236224</td>\n",
       "      <td>0.119522</td>\n",
       "      <td>0.024906</td>\n",
       "      <td>0.014185</td>\n",
       "      <td>0.156728</td>\n",
       "      <td>0.049239</td>\n",
       "      <td>0.174575</td>\n",
       "      <td>0.173463</td>\n",
       "    </tr>\n",
       "    <tr>\n",
       "      <th>299997</th>\n",
       "      <td>0.061129</td>\n",
       "      <td>0.213123</td>\n",
       "      <td>0.110433</td>\n",
       "      <td>0.025774</td>\n",
       "      <td>0.011900</td>\n",
       "      <td>0.185063</td>\n",
       "      <td>0.050927</td>\n",
       "      <td>0.181336</td>\n",
       "      <td>0.160315</td>\n",
       "    </tr>\n",
       "    <tr>\n",
       "      <th>299998</th>\n",
       "      <td>0.039407</td>\n",
       "      <td>0.019564</td>\n",
       "      <td>0.015102</td>\n",
       "      <td>0.013177</td>\n",
       "      <td>0.013812</td>\n",
       "      <td>0.366123</td>\n",
       "      <td>0.069822</td>\n",
       "      <td>0.362959</td>\n",
       "      <td>0.100034</td>\n",
       "    </tr>\n",
       "    <tr>\n",
       "      <th>299999</th>\n",
       "      <td>0.049883</td>\n",
       "      <td>0.080460</td>\n",
       "      <td>0.067381</td>\n",
       "      <td>0.025321</td>\n",
       "      <td>0.015532</td>\n",
       "      <td>0.278963</td>\n",
       "      <td>0.092296</td>\n",
       "      <td>0.244609</td>\n",
       "      <td>0.145555</td>\n",
       "    </tr>\n",
       "  </tbody>\n",
       "</table>\n",
       "<p>100000 rows × 9 columns</p>\n",
       "</div>"
      ],
      "text/plain": [
       "         Class_1   Class_2   Class_3   Class_4   Class_5   Class_6   Class_7  \\\n",
       "id                                                                             \n",
       "200000  0.073245  0.434181  0.162922  0.026360  0.012662  0.122696  0.018188   \n",
       "200001  0.043210  0.064480  0.055019  0.018017  0.013170  0.256151  0.102905   \n",
       "200002  0.013478  0.015663  0.011043  0.007883  0.003152  0.805757  0.025042   \n",
       "200003  0.062156  0.132203  0.082273  0.036718  0.015348  0.202405  0.071836   \n",
       "200004  0.047616  0.106140  0.072350  0.024208  0.014730  0.282956  0.066712   \n",
       "...          ...       ...       ...       ...       ...       ...       ...   \n",
       "299995  0.097166  0.385985  0.136681  0.032747  0.019365  0.085716  0.030696   \n",
       "299996  0.051158  0.236224  0.119522  0.024906  0.014185  0.156728  0.049239   \n",
       "299997  0.061129  0.213123  0.110433  0.025774  0.011900  0.185063  0.050927   \n",
       "299998  0.039407  0.019564  0.015102  0.013177  0.013812  0.366123  0.069822   \n",
       "299999  0.049883  0.080460  0.067381  0.025321  0.015532  0.278963  0.092296   \n",
       "\n",
       "         Class_8   Class_9  \n",
       "id                          \n",
       "200000  0.040842  0.108904  \n",
       "200001  0.315825  0.131224  \n",
       "200002  0.089287  0.028697  \n",
       "200003  0.225836  0.171224  \n",
       "200004  0.226021  0.159268  \n",
       "...          ...       ...  \n",
       "299995  0.069389  0.142255  \n",
       "299996  0.174575  0.173463  \n",
       "299997  0.181336  0.160315  \n",
       "299998  0.362959  0.100034  \n",
       "299999  0.244609  0.145555  \n",
       "\n",
       "[100000 rows x 9 columns]"
      ]
     },
     "execution_count": 35,
     "metadata": {},
     "output_type": "execute_result"
    }
   ],
   "source": [
    "submission.iloc[:, :] = pred_test\n",
    "submission"
   ]
  },
  {
   "cell_type": "code",
   "execution_count": 36,
   "id": "ethical-winning",
   "metadata": {
    "execution": {
     "iopub.execute_input": "2021-06-21T05:52:15.774765Z",
     "iopub.status.busy": "2021-06-21T05:52:15.773757Z",
     "iopub.status.idle": "2021-06-21T05:52:15.778169Z",
     "shell.execute_reply": "2021-06-21T05:52:15.777774Z",
     "shell.execute_reply.started": "2021-06-20T13:06:48.932533Z"
    },
    "papermill": {
     "duration": 1.418811,
     "end_time": "2021-06-21T05:52:15.778294",
     "exception": false,
     "start_time": "2021-06-21T05:52:14.359483",
     "status": "completed"
    },
    "tags": []
   },
   "outputs": [],
   "source": [
    "submission=submission.reset_index()"
   ]
  },
  {
   "cell_type": "code",
   "execution_count": 37,
   "id": "temporal-values",
   "metadata": {
    "execution": {
     "iopub.execute_input": "2021-06-21T05:52:18.921860Z",
     "iopub.status.busy": "2021-06-21T05:52:18.921035Z",
     "iopub.status.idle": "2021-06-21T05:52:20.512025Z",
     "shell.execute_reply": "2021-06-21T05:52:20.511353Z",
     "shell.execute_reply.started": "2021-06-20T13:06:48.942142Z"
    },
    "papermill": {
     "duration": 3.066521,
     "end_time": "2021-06-21T05:52:20.512199",
     "exception": false,
     "start_time": "2021-06-21T05:52:17.445678",
     "status": "completed"
    },
    "tags": []
   },
   "outputs": [],
   "source": [
    "submission.to_csv('Model_predict.csv', index = False)"
   ]
  },
  {
   "cell_type": "code",
   "execution_count": null,
   "id": "automatic-registration",
   "metadata": {
    "papermill": {
     "duration": 1.401765,
     "end_time": "2021-06-21T05:52:23.346327",
     "exception": false,
     "start_time": "2021-06-21T05:52:21.944562",
     "status": "completed"
    },
    "tags": []
   },
   "outputs": [],
   "source": []
  }
 ],
 "metadata": {
  "kernelspec": {
   "display_name": "Python 3",
   "language": "python",
   "name": "python3"
  },
  "language_info": {
   "codemirror_mode": {
    "name": "ipython",
    "version": 3
   },
   "file_extension": ".py",
   "mimetype": "text/x-python",
   "name": "python",
   "nbconvert_exporter": "python",
   "pygments_lexer": "ipython3",
   "version": "3.7.10"
  },
  "papermill": {
   "default_parameters": {},
   "duration": 435.40594,
   "end_time": "2021-06-21T05:52:26.676689",
   "environment_variables": {},
   "exception": null,
   "input_path": "__notebook__.ipynb",
   "output_path": "__notebook__.ipynb",
   "parameters": {},
   "start_time": "2021-06-21T05:45:11.270749",
   "version": "2.3.3"
  }
 },
 "nbformat": 4,
 "nbformat_minor": 5
}
